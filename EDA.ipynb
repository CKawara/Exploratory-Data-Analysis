{
 "cells": [
  {
   "attachments": {},
   "cell_type": "markdown",
   "metadata": {},
   "source": [
    "## EDA using Python\n",
    "\n",
    "We will be perfoming Exploratory Data Analysis on the [IT Salary Survey for EU region(2018-2020)](https://www.kaggle.com/parulpandey/2020-it-salary-survey-for-eu-region) dataset. Which will help us understand how we can use Python to perform EDA for significant insights and data-driven conclusions\n",
    "\n"
   ]
  },
  {
   "cell_type": "code",
   "execution_count": 27,
   "metadata": {},
   "outputs": [],
   "source": [
    "import pandas as pd\n",
    "import numpy as np\n",
    "import seaborn as sns"
   ]
  },
  {
   "cell_type": "code",
   "execution_count": 28,
   "metadata": {},
   "outputs": [],
   "source": [
    "data = pd.read_csv(\"./Data/IT Salary Survey EU  2020.csv\")"
   ]
  },
  {
   "cell_type": "code",
   "execution_count": 29,
   "metadata": {},
   "outputs": [
    {
     "data": {
      "text/html": [
       "<div>\n",
       "<style scoped>\n",
       "    .dataframe tbody tr th:only-of-type {\n",
       "        vertical-align: middle;\n",
       "    }\n",
       "\n",
       "    .dataframe tbody tr th {\n",
       "        vertical-align: top;\n",
       "    }\n",
       "\n",
       "    .dataframe thead th {\n",
       "        text-align: right;\n",
       "    }\n",
       "</style>\n",
       "<table border=\"1\" class=\"dataframe\">\n",
       "  <thead>\n",
       "    <tr style=\"text-align: right;\">\n",
       "      <th></th>\n",
       "      <th>Timestamp</th>\n",
       "      <th>Age</th>\n",
       "      <th>Gender</th>\n",
       "      <th>City</th>\n",
       "      <th>Position</th>\n",
       "      <th>Total years of experience</th>\n",
       "      <th>Years of experience in Germany</th>\n",
       "      <th>Seniority level</th>\n",
       "      <th>Your main technology / programming language</th>\n",
       "      <th>Other technologies/programming languages you use often</th>\n",
       "      <th>...</th>\n",
       "      <th>Annual bonus+stocks one year ago. Only answer if staying in same country</th>\n",
       "      <th>Number of vacation days</th>\n",
       "      <th>Employment status</th>\n",
       "      <th>Сontract duration</th>\n",
       "      <th>Main language at work</th>\n",
       "      <th>Company size</th>\n",
       "      <th>Company type</th>\n",
       "      <th>Have you lost your job due to the coronavirus outbreak?</th>\n",
       "      <th>Have you been forced to have a shorter working week (Kurzarbeit)? If yes, how many hours per week</th>\n",
       "      <th>Have you received additional monetary support from your employer due to Work From Home? If yes, how much in 2020 in EUR</th>\n",
       "    </tr>\n",
       "  </thead>\n",
       "  <tbody>\n",
       "    <tr>\n",
       "      <th>0</th>\n",
       "      <td>24/11/2020 11:14:15</td>\n",
       "      <td>26.0</td>\n",
       "      <td>Male</td>\n",
       "      <td>Munich</td>\n",
       "      <td>Software Engineer</td>\n",
       "      <td>5</td>\n",
       "      <td>3</td>\n",
       "      <td>Senior</td>\n",
       "      <td>TypeScript</td>\n",
       "      <td>Kotlin, Javascript / Typescript</td>\n",
       "      <td>...</td>\n",
       "      <td>10000</td>\n",
       "      <td>30</td>\n",
       "      <td>Full-time employee</td>\n",
       "      <td>Unlimited contract</td>\n",
       "      <td>English</td>\n",
       "      <td>51-100</td>\n",
       "      <td>Product</td>\n",
       "      <td>No</td>\n",
       "      <td>NaN</td>\n",
       "      <td>NaN</td>\n",
       "    </tr>\n",
       "    <tr>\n",
       "      <th>1</th>\n",
       "      <td>24/11/2020 11:14:16</td>\n",
       "      <td>26.0</td>\n",
       "      <td>Male</td>\n",
       "      <td>Berlin</td>\n",
       "      <td>Backend Developer</td>\n",
       "      <td>7</td>\n",
       "      <td>4</td>\n",
       "      <td>Senior</td>\n",
       "      <td>Ruby</td>\n",
       "      <td>NaN</td>\n",
       "      <td>...</td>\n",
       "      <td>5000</td>\n",
       "      <td>28</td>\n",
       "      <td>Full-time employee</td>\n",
       "      <td>Unlimited contract</td>\n",
       "      <td>English</td>\n",
       "      <td>101-1000</td>\n",
       "      <td>Product</td>\n",
       "      <td>No</td>\n",
       "      <td>NaN</td>\n",
       "      <td>NaN</td>\n",
       "    </tr>\n",
       "    <tr>\n",
       "      <th>2</th>\n",
       "      <td>24/11/2020 11:14:21</td>\n",
       "      <td>29.0</td>\n",
       "      <td>Male</td>\n",
       "      <td>Berlin</td>\n",
       "      <td>Software Engineer</td>\n",
       "      <td>12</td>\n",
       "      <td>6</td>\n",
       "      <td>Lead</td>\n",
       "      <td>Javascript / Typescript</td>\n",
       "      <td>Javascript / Typescript, Docker</td>\n",
       "      <td>...</td>\n",
       "      <td>100000</td>\n",
       "      <td>30</td>\n",
       "      <td>Self-employed (freelancer)</td>\n",
       "      <td>Temporary contract</td>\n",
       "      <td>English</td>\n",
       "      <td>101-1000</td>\n",
       "      <td>Product</td>\n",
       "      <td>Yes</td>\n",
       "      <td>NaN</td>\n",
       "      <td>NaN</td>\n",
       "    </tr>\n",
       "    <tr>\n",
       "      <th>3</th>\n",
       "      <td>24/11/2020 11:15:24</td>\n",
       "      <td>28.0</td>\n",
       "      <td>Male</td>\n",
       "      <td>Berlin</td>\n",
       "      <td>Frontend Developer</td>\n",
       "      <td>4</td>\n",
       "      <td>1</td>\n",
       "      <td>Junior</td>\n",
       "      <td>Javascript</td>\n",
       "      <td>NaN</td>\n",
       "      <td>...</td>\n",
       "      <td>NaN</td>\n",
       "      <td>24</td>\n",
       "      <td>Full-time employee</td>\n",
       "      <td>Unlimited contract</td>\n",
       "      <td>English</td>\n",
       "      <td>51-100</td>\n",
       "      <td>Startup</td>\n",
       "      <td>No</td>\n",
       "      <td>NaN</td>\n",
       "      <td>NaN</td>\n",
       "    </tr>\n",
       "    <tr>\n",
       "      <th>4</th>\n",
       "      <td>24/11/2020 11:15:46</td>\n",
       "      <td>37.0</td>\n",
       "      <td>Male</td>\n",
       "      <td>Berlin</td>\n",
       "      <td>Backend Developer</td>\n",
       "      <td>17</td>\n",
       "      <td>6</td>\n",
       "      <td>Senior</td>\n",
       "      <td>C# .NET</td>\n",
       "      <td>.NET, SQL, AWS, Docker</td>\n",
       "      <td>...</td>\n",
       "      <td>NaN</td>\n",
       "      <td>29</td>\n",
       "      <td>Full-time employee</td>\n",
       "      <td>Unlimited contract</td>\n",
       "      <td>English</td>\n",
       "      <td>101-1000</td>\n",
       "      <td>Product</td>\n",
       "      <td>No</td>\n",
       "      <td>NaN</td>\n",
       "      <td>NaN</td>\n",
       "    </tr>\n",
       "  </tbody>\n",
       "</table>\n",
       "<p>5 rows × 23 columns</p>\n",
       "</div>"
      ],
      "text/plain": [
       "             Timestamp   Age Gender    City           Position   \\\n",
       "0  24/11/2020 11:14:15  26.0   Male  Munich   Software Engineer   \n",
       "1  24/11/2020 11:14:16  26.0   Male  Berlin   Backend Developer   \n",
       "2  24/11/2020 11:14:21  29.0   Male  Berlin   Software Engineer   \n",
       "3  24/11/2020 11:15:24  28.0   Male  Berlin  Frontend Developer   \n",
       "4  24/11/2020 11:15:46  37.0   Male  Berlin   Backend Developer   \n",
       "\n",
       "  Total years of experience Years of experience in Germany Seniority level  \\\n",
       "0                         5                              3          Senior   \n",
       "1                         7                              4          Senior   \n",
       "2                        12                              6            Lead   \n",
       "3                         4                              1          Junior   \n",
       "4                        17                              6          Senior   \n",
       "\n",
       "  Your main technology / programming language  \\\n",
       "0                                  TypeScript   \n",
       "1                                        Ruby   \n",
       "2                     Javascript / Typescript   \n",
       "3                                  Javascript   \n",
       "4                                     C# .NET   \n",
       "\n",
       "  Other technologies/programming languages you use often  ...  \\\n",
       "0                    Kotlin, Javascript / Typescript      ...   \n",
       "1                                                NaN      ...   \n",
       "2                    Javascript / Typescript, Docker      ...   \n",
       "3                                                NaN      ...   \n",
       "4                             .NET, SQL, AWS, Docker      ...   \n",
       "\n",
       "   Annual bonus+stocks one year ago. Only answer if staying in same country  \\\n",
       "0                                              10000                          \n",
       "1                                               5000                          \n",
       "2                                             100000                          \n",
       "3                                                NaN                          \n",
       "4                                                NaN                          \n",
       "\n",
       "  Number of vacation days           Employment status   Сontract duration  \\\n",
       "0                      30          Full-time employee  Unlimited contract   \n",
       "1                      28          Full-time employee  Unlimited contract   \n",
       "2                      30  Self-employed (freelancer)  Temporary contract   \n",
       "3                      24          Full-time employee  Unlimited contract   \n",
       "4                      29          Full-time employee  Unlimited contract   \n",
       "\n",
       "  Main language at work Company size Company type  \\\n",
       "0               English       51-100      Product   \n",
       "1               English     101-1000      Product   \n",
       "2               English     101-1000      Product   \n",
       "3               English       51-100      Startup   \n",
       "4               English     101-1000      Product   \n",
       "\n",
       "  Have you lost your job due to the coronavirus outbreak?  \\\n",
       "0                                                 No        \n",
       "1                                                 No        \n",
       "2                                                Yes        \n",
       "3                                                 No        \n",
       "4                                                 No        \n",
       "\n",
       "  Have you been forced to have a shorter working week (Kurzarbeit)? If yes, how many hours per week  \\\n",
       "0                                                NaN                                                  \n",
       "1                                                NaN                                                  \n",
       "2                                                NaN                                                  \n",
       "3                                                NaN                                                  \n",
       "4                                                NaN                                                  \n",
       "\n",
       "  Have you received additional monetary support from your employer due to Work From Home? If yes, how much in 2020 in EUR  \n",
       "0                                                NaN                                                                       \n",
       "1                                                NaN                                                                       \n",
       "2                                                NaN                                                                       \n",
       "3                                                NaN                                                                       \n",
       "4                                                NaN                                                                       \n",
       "\n",
       "[5 rows x 23 columns]"
      ]
     },
     "execution_count": 29,
     "metadata": {},
     "output_type": "execute_result"
    }
   ],
   "source": [
    "#  understanding our data\n",
    "data.head()"
   ]
  },
  {
   "cell_type": "code",
   "execution_count": 30,
   "metadata": {},
   "outputs": [
    {
     "data": {
      "text/html": [
       "<div>\n",
       "<style scoped>\n",
       "    .dataframe tbody tr th:only-of-type {\n",
       "        vertical-align: middle;\n",
       "    }\n",
       "\n",
       "    .dataframe tbody tr th {\n",
       "        vertical-align: top;\n",
       "    }\n",
       "\n",
       "    .dataframe thead th {\n",
       "        text-align: right;\n",
       "    }\n",
       "</style>\n",
       "<table border=\"1\" class=\"dataframe\">\n",
       "  <thead>\n",
       "    <tr style=\"text-align: right;\">\n",
       "      <th></th>\n",
       "      <th>Timestamp</th>\n",
       "      <th>Age</th>\n",
       "      <th>Gender</th>\n",
       "      <th>City</th>\n",
       "      <th>Position</th>\n",
       "      <th>Total years of experience</th>\n",
       "      <th>Years of experience in Germany</th>\n",
       "      <th>Seniority level</th>\n",
       "      <th>Your main technology / programming language</th>\n",
       "      <th>Other technologies/programming languages you use often</th>\n",
       "      <th>...</th>\n",
       "      <th>Annual bonus+stocks one year ago. Only answer if staying in same country</th>\n",
       "      <th>Number of vacation days</th>\n",
       "      <th>Employment status</th>\n",
       "      <th>Сontract duration</th>\n",
       "      <th>Main language at work</th>\n",
       "      <th>Company size</th>\n",
       "      <th>Company type</th>\n",
       "      <th>Have you lost your job due to the coronavirus outbreak?</th>\n",
       "      <th>Have you been forced to have a shorter working week (Kurzarbeit)? If yes, how many hours per week</th>\n",
       "      <th>Have you received additional monetary support from your employer due to Work From Home? If yes, how much in 2020 in EUR</th>\n",
       "    </tr>\n",
       "  </thead>\n",
       "  <tbody>\n",
       "    <tr>\n",
       "      <th>1248</th>\n",
       "      <td>18/01/2021 15:05:50</td>\n",
       "      <td>31.0</td>\n",
       "      <td>Male</td>\n",
       "      <td>Berlin</td>\n",
       "      <td>Backend Developer</td>\n",
       "      <td>9</td>\n",
       "      <td>5</td>\n",
       "      <td>Senior</td>\n",
       "      <td>Java</td>\n",
       "      <td>Python, Javascript / Typescript, Java / Scala,...</td>\n",
       "      <td>...</td>\n",
       "      <td>72000</td>\n",
       "      <td>26</td>\n",
       "      <td>Full-time employee</td>\n",
       "      <td>Unlimited contract</td>\n",
       "      <td>English</td>\n",
       "      <td>51-100</td>\n",
       "      <td>Product</td>\n",
       "      <td>Yes</td>\n",
       "      <td>NaN</td>\n",
       "      <td>NaN</td>\n",
       "    </tr>\n",
       "    <tr>\n",
       "      <th>1249</th>\n",
       "      <td>18/01/2021 17:46:02</td>\n",
       "      <td>33.0</td>\n",
       "      <td>Male</td>\n",
       "      <td>Berlin</td>\n",
       "      <td>Researcher/ Consumer Insights Analyst</td>\n",
       "      <td>10</td>\n",
       "      <td>1.5</td>\n",
       "      <td>Senior</td>\n",
       "      <td>consumer analysis</td>\n",
       "      <td>NaN</td>\n",
       "      <td>...</td>\n",
       "      <td>2500</td>\n",
       "      <td>unlimited</td>\n",
       "      <td>Full-time employee</td>\n",
       "      <td>Unlimited contract</td>\n",
       "      <td>English</td>\n",
       "      <td>1000+</td>\n",
       "      <td>Product</td>\n",
       "      <td>No</td>\n",
       "      <td>NaN</td>\n",
       "      <td>0</td>\n",
       "    </tr>\n",
       "    <tr>\n",
       "      <th>1250</th>\n",
       "      <td>18/01/2021 23:20:35</td>\n",
       "      <td>39.0</td>\n",
       "      <td>Male</td>\n",
       "      <td>Munich</td>\n",
       "      <td>IT Operations Manager</td>\n",
       "      <td>15</td>\n",
       "      <td>2</td>\n",
       "      <td>Lead</td>\n",
       "      <td>PHP</td>\n",
       "      <td>Python, C/C++, Javascript / Typescript, Java /...</td>\n",
       "      <td>...</td>\n",
       "      <td>NaN</td>\n",
       "      <td>28</td>\n",
       "      <td>Full-time employee</td>\n",
       "      <td>Unlimited contract</td>\n",
       "      <td>English</td>\n",
       "      <td>101-1000</td>\n",
       "      <td>eCommerce</td>\n",
       "      <td>No</td>\n",
       "      <td>NaN</td>\n",
       "      <td>NaN</td>\n",
       "    </tr>\n",
       "    <tr>\n",
       "      <th>1251</th>\n",
       "      <td>19/01/2021 10:17:58</td>\n",
       "      <td>26.0</td>\n",
       "      <td>Male</td>\n",
       "      <td>Saarbrücken</td>\n",
       "      <td>Frontend Developer</td>\n",
       "      <td>7</td>\n",
       "      <td>7</td>\n",
       "      <td>Middle</td>\n",
       "      <td>JavaScript</td>\n",
       "      <td>Javascript / Typescript, Docker, HTML, CSS; Ad...</td>\n",
       "      <td>...</td>\n",
       "      <td>36400</td>\n",
       "      <td>27</td>\n",
       "      <td>Full-time employee</td>\n",
       "      <td>Unlimited contract</td>\n",
       "      <td>German</td>\n",
       "      <td>101-1000</td>\n",
       "      <td>Product</td>\n",
       "      <td>No</td>\n",
       "      <td>NaN</td>\n",
       "      <td>0</td>\n",
       "    </tr>\n",
       "    <tr>\n",
       "      <th>1252</th>\n",
       "      <td>19/01/2021 12:01:11</td>\n",
       "      <td>26.0</td>\n",
       "      <td>Male</td>\n",
       "      <td>Berlin</td>\n",
       "      <td>DevOps</td>\n",
       "      <td>2</td>\n",
       "      <td>2</td>\n",
       "      <td>Middle</td>\n",
       "      <td>yaml</td>\n",
       "      <td>Python, AWS, Kubernetes, Docker, terraform, an...</td>\n",
       "      <td>...</td>\n",
       "      <td>0</td>\n",
       "      <td>30</td>\n",
       "      <td>Full-time employee</td>\n",
       "      <td>Unlimited contract</td>\n",
       "      <td>English</td>\n",
       "      <td>51-100</td>\n",
       "      <td>Startup</td>\n",
       "      <td>No</td>\n",
       "      <td>30.0</td>\n",
       "      <td>600</td>\n",
       "    </tr>\n",
       "  </tbody>\n",
       "</table>\n",
       "<p>5 rows × 23 columns</p>\n",
       "</div>"
      ],
      "text/plain": [
       "                Timestamp   Age Gender         City  \\\n",
       "1248  18/01/2021 15:05:50  31.0   Male       Berlin   \n",
       "1249  18/01/2021 17:46:02  33.0   Male       Berlin   \n",
       "1250  18/01/2021 23:20:35  39.0   Male       Munich   \n",
       "1251  19/01/2021 10:17:58  26.0   Male  Saarbrücken   \n",
       "1252  19/01/2021 12:01:11  26.0   Male       Berlin   \n",
       "\n",
       "                                   Position  Total years of experience  \\\n",
       "1248                       Backend Developer                         9   \n",
       "1249  Researcher/ Consumer Insights Analyst                         10   \n",
       "1250                   IT Operations Manager                        15   \n",
       "1251                      Frontend Developer                         7   \n",
       "1252                                  DevOps                         2   \n",
       "\n",
       "     Years of experience in Germany Seniority level  \\\n",
       "1248                              5          Senior   \n",
       "1249                            1.5          Senior   \n",
       "1250                              2            Lead   \n",
       "1251                              7          Middle   \n",
       "1252                              2          Middle   \n",
       "\n",
       "     Your main technology / programming language  \\\n",
       "1248                                        Java   \n",
       "1249                           consumer analysis   \n",
       "1250                                         PHP   \n",
       "1251                                  JavaScript   \n",
       "1252                                        yaml   \n",
       "\n",
       "     Other technologies/programming languages you use often  ...  \\\n",
       "1248  Python, Javascript / Typescript, Java / Scala,...      ...   \n",
       "1249                                                NaN      ...   \n",
       "1250  Python, C/C++, Javascript / Typescript, Java /...      ...   \n",
       "1251  Javascript / Typescript, Docker, HTML, CSS; Ad...      ...   \n",
       "1252  Python, AWS, Kubernetes, Docker, terraform, an...      ...   \n",
       "\n",
       "      Annual bonus+stocks one year ago. Only answer if staying in same country  \\\n",
       "1248                                              72000                          \n",
       "1249                                               2500                          \n",
       "1250                                                NaN                          \n",
       "1251                                              36400                          \n",
       "1252                                                  0                          \n",
       "\n",
       "     Number of vacation days   Employment status   Сontract duration  \\\n",
       "1248                      26  Full-time employee  Unlimited contract   \n",
       "1249              unlimited   Full-time employee  Unlimited contract   \n",
       "1250                      28  Full-time employee  Unlimited contract   \n",
       "1251                      27  Full-time employee  Unlimited contract   \n",
       "1252                      30  Full-time employee  Unlimited contract   \n",
       "\n",
       "     Main language at work Company size Company type  \\\n",
       "1248               English       51-100      Product   \n",
       "1249               English        1000+      Product   \n",
       "1250               English     101-1000    eCommerce   \n",
       "1251                German     101-1000      Product   \n",
       "1252               English       51-100      Startup   \n",
       "\n",
       "     Have you lost your job due to the coronavirus outbreak?  \\\n",
       "1248                                                Yes        \n",
       "1249                                                 No        \n",
       "1250                                                 No        \n",
       "1251                                                 No        \n",
       "1252                                                 No        \n",
       "\n",
       "     Have you been forced to have a shorter working week (Kurzarbeit)? If yes, how many hours per week  \\\n",
       "1248                                                NaN                                                  \n",
       "1249                                                NaN                                                  \n",
       "1250                                                NaN                                                  \n",
       "1251                                                NaN                                                  \n",
       "1252                                               30.0                                                  \n",
       "\n",
       "     Have you received additional monetary support from your employer due to Work From Home? If yes, how much in 2020 in EUR  \n",
       "1248                                                NaN                                                                       \n",
       "1249                                                  0                                                                       \n",
       "1250                                                NaN                                                                       \n",
       "1251                                                  0                                                                       \n",
       "1252                                                600                                                                       \n",
       "\n",
       "[5 rows x 23 columns]"
      ]
     },
     "execution_count": 30,
     "metadata": {},
     "output_type": "execute_result"
    }
   ],
   "source": [
    "data.tail()"
   ]
  },
  {
   "cell_type": "code",
   "execution_count": 31,
   "metadata": {},
   "outputs": [
    {
     "data": {
      "text/plain": [
       "(1253, 23)"
      ]
     },
     "execution_count": 31,
     "metadata": {},
     "output_type": "execute_result"
    }
   ],
   "source": [
    "data.shape"
   ]
  },
  {
   "cell_type": "code",
   "execution_count": 32,
   "metadata": {},
   "outputs": [
    {
     "data": {
      "text/html": [
       "<div>\n",
       "<style scoped>\n",
       "    .dataframe tbody tr th:only-of-type {\n",
       "        vertical-align: middle;\n",
       "    }\n",
       "\n",
       "    .dataframe tbody tr th {\n",
       "        vertical-align: top;\n",
       "    }\n",
       "\n",
       "    .dataframe thead th {\n",
       "        text-align: right;\n",
       "    }\n",
       "</style>\n",
       "<table border=\"1\" class=\"dataframe\">\n",
       "  <thead>\n",
       "    <tr style=\"text-align: right;\">\n",
       "      <th></th>\n",
       "      <th>Age</th>\n",
       "      <th>Yearly brutto salary (without bonus and stocks) in EUR</th>\n",
       "      <th>Annual brutto salary (without bonus and stocks) one year ago. Only answer if staying in the same country</th>\n",
       "      <th>Have you been forced to have a shorter working week (Kurzarbeit)? If yes, how many hours per week</th>\n",
       "    </tr>\n",
       "  </thead>\n",
       "  <tbody>\n",
       "    <tr>\n",
       "      <th>count</th>\n",
       "      <td>1226.000000</td>\n",
       "      <td>1.253000e+03</td>\n",
       "      <td>8.850000e+02</td>\n",
       "      <td>373.000000</td>\n",
       "    </tr>\n",
       "    <tr>\n",
       "      <th>mean</th>\n",
       "      <td>32.509788</td>\n",
       "      <td>8.027904e+07</td>\n",
       "      <td>6.322459e+05</td>\n",
       "      <td>12.967828</td>\n",
       "    </tr>\n",
       "    <tr>\n",
       "      <th>std</th>\n",
       "      <td>5.663804</td>\n",
       "      <td>2.825061e+09</td>\n",
       "      <td>1.680508e+07</td>\n",
       "      <td>15.275174</td>\n",
       "    </tr>\n",
       "    <tr>\n",
       "      <th>min</th>\n",
       "      <td>20.000000</td>\n",
       "      <td>1.000100e+04</td>\n",
       "      <td>1.100000e+04</td>\n",
       "      <td>0.000000</td>\n",
       "    </tr>\n",
       "    <tr>\n",
       "      <th>25%</th>\n",
       "      <td>29.000000</td>\n",
       "      <td>5.880000e+04</td>\n",
       "      <td>5.500000e+04</td>\n",
       "      <td>0.000000</td>\n",
       "    </tr>\n",
       "    <tr>\n",
       "      <th>50%</th>\n",
       "      <td>32.000000</td>\n",
       "      <td>7.000000e+04</td>\n",
       "      <td>6.500000e+04</td>\n",
       "      <td>0.000000</td>\n",
       "    </tr>\n",
       "    <tr>\n",
       "      <th>75%</th>\n",
       "      <td>35.000000</td>\n",
       "      <td>8.000000e+04</td>\n",
       "      <td>7.500000e+04</td>\n",
       "      <td>30.000000</td>\n",
       "    </tr>\n",
       "    <tr>\n",
       "      <th>max</th>\n",
       "      <td>69.000000</td>\n",
       "      <td>1.000000e+11</td>\n",
       "      <td>5.000000e+08</td>\n",
       "      <td>40.000000</td>\n",
       "    </tr>\n",
       "  </tbody>\n",
       "</table>\n",
       "</div>"
      ],
      "text/plain": [
       "               Age  Yearly brutto salary (without bonus and stocks) in EUR  \\\n",
       "count  1226.000000                                       1.253000e+03        \n",
       "mean     32.509788                                       8.027904e+07        \n",
       "std       5.663804                                       2.825061e+09        \n",
       "min      20.000000                                       1.000100e+04        \n",
       "25%      29.000000                                       5.880000e+04        \n",
       "50%      32.000000                                       7.000000e+04        \n",
       "75%      35.000000                                       8.000000e+04        \n",
       "max      69.000000                                       1.000000e+11        \n",
       "\n",
       "       Annual brutto salary (without bonus and stocks) one year ago. Only answer if staying in the same country  \\\n",
       "count                                       8.850000e+02                                                          \n",
       "mean                                        6.322459e+05                                                          \n",
       "std                                         1.680508e+07                                                          \n",
       "min                                         1.100000e+04                                                          \n",
       "25%                                         5.500000e+04                                                          \n",
       "50%                                         6.500000e+04                                                          \n",
       "75%                                         7.500000e+04                                                          \n",
       "max                                         5.000000e+08                                                          \n",
       "\n",
       "       Have you been forced to have a shorter working week (Kurzarbeit)? If yes, how many hours per week  \n",
       "count                                         373.000000                                                  \n",
       "mean                                           12.967828                                                  \n",
       "std                                            15.275174                                                  \n",
       "min                                             0.000000                                                  \n",
       "25%                                             0.000000                                                  \n",
       "50%                                             0.000000                                                  \n",
       "75%                                            30.000000                                                  \n",
       "max                                            40.000000                                                  "
      ]
     },
     "execution_count": 32,
     "metadata": {},
     "output_type": "execute_result"
    }
   ],
   "source": [
    "data.describe()"
   ]
  },
  {
   "cell_type": "code",
   "execution_count": 33,
   "metadata": {},
   "outputs": [
    {
     "data": {
      "text/plain": [
       "Index(['Timestamp', 'Age', 'Gender', 'City', 'Position ',\n",
       "       'Total years of experience', 'Years of experience in Germany',\n",
       "       'Seniority level', 'Your main technology / programming language',\n",
       "       'Other technologies/programming languages you use often',\n",
       "       'Yearly brutto salary (without bonus and stocks) in EUR',\n",
       "       'Yearly bonus + stocks in EUR',\n",
       "       'Annual brutto salary (without bonus and stocks) one year ago. Only answer if staying in the same country',\n",
       "       'Annual bonus+stocks one year ago. Only answer if staying in same country',\n",
       "       'Number of vacation days', 'Employment status', 'Сontract duration',\n",
       "       'Main language at work', 'Company size', 'Company type',\n",
       "       'Have you lost your job due to the coronavirus outbreak?',\n",
       "       'Have you been forced to have a shorter working week (Kurzarbeit)? If yes, how many hours per week',\n",
       "       'Have you received additional monetary support from your employer due to Work From Home? If yes, how much in 2020 in EUR'],\n",
       "      dtype='object')"
      ]
     },
     "execution_count": 33,
     "metadata": {},
     "output_type": "execute_result"
    }
   ],
   "source": [
    "data.columns"
   ]
  },
  {
   "cell_type": "code",
   "execution_count": 34,
   "metadata": {},
   "outputs": [
    {
     "data": {
      "text/plain": [
       "Timestamp                                                                                                                  1248\n",
       "Age                                                                                                                          40\n",
       "Gender                                                                                                                        3\n",
       "City                                                                                                                        119\n",
       "Position                                                                                                                    148\n",
       "Total years of experience                                                                                                    48\n",
       "Years of experience in Germany                                                                                               53\n",
       "Seniority level                                                                                                              24\n",
       "Your main technology / programming language                                                                                 256\n",
       "Other technologies/programming languages you use often                                                                      562\n",
       "Yearly brutto salary (without bonus and stocks) in EUR                                                                      201\n",
       "Yearly bonus + stocks in EUR                                                                                                168\n",
       "Annual brutto salary (without bonus and stocks) one year ago. Only answer if staying in the same country                    147\n",
       "Annual bonus+stocks one year ago. Only answer if staying in same country                                                    131\n",
       "Number of vacation days                                                                                                      45\n",
       "Employment status                                                                                                            11\n",
       "Сontract duration                                                                                                             3\n",
       "Main language at work                                                                                                        14\n",
       "Company size                                                                                                                  5\n",
       "Company type                                                                                                                 63\n",
       "Have you lost your job due to the coronavirus outbreak?                                                                      10\n",
       "Have you been forced to have a shorter working week (Kurzarbeit)? If yes, how many hours per week                            23\n",
       "Have you received additional monetary support from your employer due to Work From Home? If yes, how much in 2020 in EUR      59\n",
       "dtype: int64"
      ]
     },
     "execution_count": 34,
     "metadata": {},
     "output_type": "execute_result"
    }
   ],
   "source": [
    "# check for unique values\n",
    "data.nunique()"
   ]
  },
  {
   "cell_type": "code",
   "execution_count": 55,
   "metadata": {},
   "outputs": [
    {
     "data": {
      "text/plain": [
       "array(['Senior', 'Lead', 'Junior', 'Middle', 'VP', 'Manager',\n",
       "       'Work Center Manager', 'Head', 'CTO', 'No level ', 'Director',\n",
       "       'C-level executive manager', 'Principal', 'intern', 'Student',\n",
       "       'no idea, there are no ranges in the firm ', 'C-Level',\n",
       "       'Working Student', 'Entry level', 'Intern', 'student'],\n",
       "      dtype=object)"
      ]
     },
     "execution_count": 55,
     "metadata": {},
     "output_type": "execute_result"
    }
   ],
   "source": [
    "# check unique value for specific values\n",
    "data['Seniority'].unique()"
   ]
  },
  {
   "cell_type": "code",
   "execution_count": 37,
   "metadata": {},
   "outputs": [],
   "source": [
    "# Data Cleaning\n",
    "\n",
    "# Rename columns\n",
    "data.columns = [\"Year\", \"Age\", \"Gender\",\"City\",\"Position\",\"Experience\",\"German_Experience\",\"Seniority\",\"Main_language\",\n",
    "                       \"Other Language\",\"Yearly_salary\",\"Yearly_bonus\", \"Last_year_salary\",\"Last_year_bonus\",\"Vacation_days\",\n",
    "                       \"Employment_status\",\"Сontract_duration\",\"Language\",\"Company_size\",\"Company_type\",\"Job_loss_COVID\",\"Kurzarbeit\",\"Monetary_Support\"]"
   ]
  },
  {
   "cell_type": "code",
   "execution_count": 39,
   "metadata": {},
   "outputs": [],
   "source": [
    "data.drop([\n",
    "        'German_Experience', # analysis focuses on only German\n",
    "        'Last_year_salary', # analysis covers only 2020 \n",
    "        'Last_year_bonus',  # analysis covers only 2020 \n",
    "        'Job_loss_COVID', # analysis isn't related to covid\n",
    "        'Kurzarbeit', # analysis isn't related to covid\n",
    "        'Monetary_Support', # analysis isn't related to covid\n",
    "        ], axis=1, inplace=True)"
   ]
  },
  {
   "cell_type": "code",
   "execution_count": 40,
   "metadata": {},
   "outputs": [
    {
     "data": {
      "text/plain": [
       "Year                   0\n",
       "Age                   27\n",
       "Gender                10\n",
       "City                   0\n",
       "Position               6\n",
       "Experience            16\n",
       "Seniority             12\n",
       "Main_language        127\n",
       "Other Language       157\n",
       "Yearly_salary          0\n",
       "Yearly_bonus         424\n",
       "Vacation_days         68\n",
       "Employment_status     17\n",
       "Сontract_duration     29\n",
       "Language              16\n",
       "Company_size          18\n",
       "Company_type          25\n",
       "dtype: int64"
      ]
     },
     "execution_count": 40,
     "metadata": {},
     "output_type": "execute_result"
    }
   ],
   "source": [
    "# check for a missing values\n",
    "data.isna().sum()"
   ]
  },
  {
   "cell_type": "code",
   "execution_count": 52,
   "metadata": {},
   "outputs": [],
   "source": [
    "# Drop missing and duplicate values\n",
    "data=data.dropna(subset=['Age','Gender','Position','Experience','Seniority','Main_language', 'Сontract_duration']) \n",
    "data=data.drop_duplicates()"
   ]
  },
  {
   "cell_type": "code",
   "execution_count": 53,
   "metadata": {},
   "outputs": [
    {
     "data": {
      "text/plain": [
       "Year                   0\n",
       "Age                    0\n",
       "Gender                 0\n",
       "City                   0\n",
       "Position               0\n",
       "Experience             0\n",
       "Seniority              0\n",
       "Main_language          0\n",
       "Other Language        79\n",
       "Yearly_salary          0\n",
       "Yearly_bonus         325\n",
       "Vacation_days         33\n",
       "Employment_status      2\n",
       "Сontract_duration      0\n",
       "Language               2\n",
       "Company_size           2\n",
       "Company_type           6\n",
       "dtype: int64"
      ]
     },
     "execution_count": 53,
     "metadata": {},
     "output_type": "execute_result"
    }
   ],
   "source": [
    "data.isna().sum()"
   ]
  },
  {
   "cell_type": "code",
   "execution_count": 43,
   "metadata": {},
   "outputs": [],
   "source": [
    "#  changing datetime to date\n",
    "data['Year'] = pd.to_datetime(data['Year']).dt.year"
   ]
  },
  {
   "cell_type": "code",
   "execution_count": 44,
   "metadata": {},
   "outputs": [],
   "source": [
    "# relationship analysis\n",
    "\n",
    "corelation = data.corr()"
   ]
  },
  {
   "cell_type": "code",
   "execution_count": 45,
   "metadata": {},
   "outputs": [
    {
     "data": {
      "text/plain": [
       "<AxesSubplot:>"
      ]
     },
     "execution_count": 45,
     "metadata": {},
     "output_type": "execute_result"
    },
    {
     "data": {
      "image/png": "[encoded data removed]",
      "text/plain": [
       "<Figure size 640x480 with 2 Axes>"
      ]
     },
     "metadata": {},
     "output_type": "display_data"
    }
   ],
   "source": [
    "sns.heatmap(corelation, xticklabels=corelation.columns, yticklabels=corelation.columns, annot=True)"
   ]
  },
  {
   "cell_type": "code",
   "execution_count": 47,
   "metadata": {},
   "outputs": [
    {
     "data": {
      "text/plain": [
       "<AxesSubplot:xlabel='Gender', ylabel='count'>"
      ]
     },
     "execution_count": 47,
     "metadata": {},
     "output_type": "execute_result"
    },
    {
     "data": {
      "image/png": "[encoded data removed]",
      "text/plain": [
       "<Figure size 640x480 with 1 Axes>"
      ]
     },
     "metadata": {},
     "output_type": "display_data"
    }
   ],
   "source": [
    "sns.countplot(x='Gender', data=data)"
   ]
  },
  {
   "cell_type": "code",
   "execution_count": 54,
   "metadata": {},
   "outputs": [
    {
     "data": {
      "text/plain": [
       "<AxesSubplot:xlabel='Gender', ylabel='count'>"
      ]
     },
     "execution_count": 54,
     "metadata": {},
     "output_type": "execute_result"
    },
    {
     "data": {
      "image/png": "[encoded data removed]",
      "text/plain": [
       "<Figure size 640x480 with 1 Axes>"
      ]
     },
     "metadata": {},
     "output_type": "display_data"
    }
   ],
   "source": [
    "sns.countplot(x='Gender', hue='Сontract_duration', data=data)"
   ]
  },
  {
   "cell_type": "code",
   "execution_count": null,
   "metadata": {},
   "outputs": [],
   "source": []
  }
 ],
 "metadata": {
  "kernelspec": {
   "display_name": "base",
   "language": "python",
   "name": "python3"
  },
  "language_info": {
   "codemirror_mode": {
    "name": "ipython",
    "version": 3
   },
   "file_extension": ".py",
   "mimetype": "text/x-python",
   "name": "python",
   "nbconvert_exporter": "python",
   "pygments_lexer": "ipython3",
   "version": "3.9.13"
  },
  "orig_nbformat": 4,
  "vscode": {
   "interpreter": {
    "hash": "a077222d77dfe082b8f1dd562ad70e458ac2ab76993a0b248ab0476e32e9e8dd"
   }
  }
 },
 "nbformat": 4,
 "nbformat_minor": 2
}
